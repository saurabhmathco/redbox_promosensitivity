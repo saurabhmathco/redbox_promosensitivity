{
 "cells": [
  {
   "cell_type": "code",
   "execution_count": null,
   "metadata": {},
   "outputs": [],
   "source": [
    "import sys\n",
    "\n",
    "!{sys.executable} -m pip install keyring artifacts-keyring\n",
    "!{sys.executable} -m pip install --pre --upgrade --trusted-host pkgs.dev.azure.com --trusted-host pypi.org --trusted-host \"*.blob.core.windows.net\" --trusted-host files.pythonhosted.org --extra-index-url https://pkgs.dev.azure.com/mathco-products/_packaging/pip-codex-wf%40Local/pypi/simple/ \"codex-widget-factory<=0.1\"\n",
    "\n"
   ]
  },
  {
   "cell_type": "code",
   "execution_count": 1,
   "metadata": {},
   "outputs": [],
   "source": [
    "# tags to identify this iteration when submitted\n",
    "# example: codex_tags = {'env': 'dev', 'region': 'USA', 'product_category': 'A'}\n",
    "\n",
    "codex_tags = {\n",
    "}\n",
    "\n",
    "from codex_widget_factory import utils\n",
    "results_json=[]\n",
    "\n"
   ]
  },
  {
   "cell_type": "markdown",
   "metadata": {},
   "source": [
    "### Ingestion Transaction"
   ]
  },
  {
   "cell_type": "code",
   "execution_count": 2,
   "metadata": {},
   "outputs": [
    {
     "name": "stdout",
     "output_type": "stream",
     "text": [
      "         customerentitykey  rentdatekey               rentaldate  \\\n",
      "0                362955847     20180407  2018-04-07 19:10:32.493   \n",
      "1                345276985     20180209   2018-02-09 18:55:27.99   \n",
      "2                  9505277     20180427  2018-04-27 13:33:00.443   \n",
      "3                324189863     20180326  2018-03-26 22:47:48.277   \n",
      "4                150519281     20180408  2018-04-08 16:12:28.133   \n",
      "...                    ...          ...                      ...   \n",
      "7007130          133670902     20180310   2018-03-10 21:13:11.27   \n",
      "7007131           81027912     20180304  2018-03-04 17:12:39.727   \n",
      "7007132          303164071     20180212   2018-02-12 20:38:07.96   \n",
      "7007133          430493888     20180410   2018-04-10 19:57:25.46   \n",
      "7007134           52305075     20180414  2018-04-14 18:59:18.147   \n",
      "\n",
      "         transactionid  title_id  kioskclient_id reservationtype   device  \\\n",
      "0           4219760397    302864           54818         Unknown  Unknown   \n",
      "1           4176126052    303362           39064         Unknown  Unknown   \n",
      "2           4231565538    304523           68379         Unknown  Unknown   \n",
      "3           4210325404    300109           72598          Mobile  Android   \n",
      "4           4220535954    303380           10164          Mobile   iPhone   \n",
      "...                ...       ...             ...             ...      ...   \n",
      "7007130     4197369830    403215           49994         Unknown  Unknown   \n",
      "7007131     4192733364    300147           32216         Unknown  Unknown   \n",
      "7007132     4178533839    300128           15970         Unknown  Unknown   \n",
      "7007133     4221552641    304558           58927         Unknown  Unknown   \n",
      "7007134     4224343907    303307           41198          Mobile   iPhone   \n",
      "\n",
      "         productgroupid  boxofficerevenueamount  ... declinedcreditamount  \\\n",
      "0                202864              17200000.0  ...                  0.0   \n",
      "1                203362              64700000.0  ...                  0.0   \n",
      "2                204523              10700000.0  ...                  0.0   \n",
      "3                200109              75300000.0  ...                  0.0   \n",
      "4                203380              13500000.0  ...                  0.0   \n",
      "...                 ...                     ...  ...                  ...   \n",
      "7007130          203215             207200000.0  ...                  0.0   \n",
      "7007131          200147              90900000.0  ...                  0.0   \n",
      "7007132          200128              22400000.0  ...                  0.0   \n",
      "7007133          204558                     NaN  ...                  0.0   \n",
      "7007134          203307              24500000.0  ...                  0.0   \n",
      "\n",
      "        collectedamount  declinedamount netrevenue earnedrevenue  \\\n",
      "0                  1.75             0.0       1.75          1.75   \n",
      "1                  3.00             0.0       3.00          3.00   \n",
      "2                  0.00             0.0       0.00          0.00   \n",
      "3                  1.25             0.0       1.25          1.25   \n",
      "4                  1.75             0.0       1.75          1.75   \n",
      "...                 ...             ...        ...           ...   \n",
      "7007130            2.00             0.0       2.00          2.00   \n",
      "7007131            3.00             0.0       3.00          3.00   \n",
      "7007132            3.00             0.0       3.00          3.00   \n",
      "7007133            1.75             0.0       1.75          1.75   \n",
      "7007134            0.50             0.0       0.50          0.50   \n",
      "\n",
      "         redemptionpoints  redemptionamount  declinedredemptionamount  \\\n",
      "0                     0.0               0.0                       0.0   \n",
      "1                     0.0               0.0                       0.0   \n",
      "2                     0.0               0.0                       0.0   \n",
      "3                     0.0               0.0                       0.0   \n",
      "4                     0.0               0.0                       0.0   \n",
      "...                   ...               ...                       ...   \n",
      "7007130               0.0               0.0                       0.0   \n",
      "7007131               0.0               0.0                       0.0   \n",
      "7007132               0.0               0.0                       0.0   \n",
      "7007133               0.0               0.0                       0.0   \n",
      "7007134               0.0               0.0                       0.0   \n",
      "\n",
      "        initialnightcharges promotioncode  \n",
      "0                      1.75      7VQU58D9  \n",
      "1                      1.50       Unknown  \n",
      "2                      1.75      FZ9F757X  \n",
      "3                      1.50  MARCHMADNESS  \n",
      "4                      1.75       Unknown  \n",
      "...                     ...           ...  \n",
      "7007130                2.00       Unknown  \n",
      "7007131                1.50       Unknown  \n",
      "7007132                1.50       Unknown  \n",
      "7007133                1.75       Unknown  \n",
      "7007134                1.75      SQYZT6C9  \n",
      "\n",
      "[7007135 rows x 39 columns]\n"
     ]
    }
   ],
   "source": [
    "#BEGIN WIDGET CODE BELOW...\n",
    "\n",
    "from codex_widget_factory.ingestion.file_system import get_ingested_data as ingestion_file_system_get_ingested_data\n",
    "response_0 = ingestion_file_system_get_ingested_data(file_path='transaction_details_internal_201901041519.csv',\n",
    "datasource_type='azure_blob_storage',\n",
    "connection_uri=\"DefaultEndpointsProtocol=https;AccountName=coach;AccountKey=qtMAw9Z1T+1oOl+joMwfzdvnR0exMA4Qw50vniiaXOFvpOeFG7TP+g+DP4/iU7VKAUhirSpzrESvjF3U2Ld0KA==;EndpointSuffix=core.windows.net\",\n",
    "container_name='ddrs11/redbox_surabhi')\n",
    "results_json.append({\n",
    "  'type': 'Ingestion',\n",
    "  'name': 'Transaction',\n",
    "  'component': 'get_ingested_data',\n",
    "  'visual_results': utils.get_response_visuals(response_0),\n",
    "  'metrics': False\n",
    "})\n",
    "utils.render_response(response_0)\n",
    "\n",
    "#END WIDGET CODE\n",
    "\n"
   ]
  },
  {
   "cell_type": "markdown",
   "metadata": {},
   "source": [
    "### Custom Filter Unknown Promotion code"
   ]
  },
  {
   "cell_type": "code",
   "execution_count": 3,
   "metadata": {},
   "outputs": [
    {
     "name": "stderr",
     "output_type": "stream",
     "text": [
      "c:\\users\\saurabhmishra\\appdata\\local\\programs\\python\\python37\\lib\\site-packages\\ipykernel_launcher.py:8: SettingWithCopyWarning:\n",
      "\n",
      "\n",
      "A value is trying to be set on a copy of a slice from a DataFrame\n",
      "\n",
      "See the caveats in the documentation: https://pandas.pydata.org/pandas-docs/stable/user_guide/indexing.html#returning-a-view-versus-a-copy\n",
      "\n",
      "c:\\users\\saurabhmishra\\appdata\\local\\programs\\python\\python37\\lib\\site-packages\\ipykernel_launcher.py:10: SettingWithCopyWarning:\n",
      "\n",
      "\n",
      "A value is trying to be set on a copy of a slice from a DataFrame\n",
      "\n",
      "See the caveats in the documentation: https://pandas.pydata.org/pandas-docs/stable/user_guide/indexing.html#returning-a-view-versus-a-copy\n",
      "\n",
      "c:\\users\\saurabhmishra\\appdata\\local\\programs\\python\\python37\\lib\\site-packages\\pandas\\core\\generic.py:8765: SettingWithCopyWarning:\n",
      "\n",
      "\n",
      "A value is trying to be set on a copy of a slice from a DataFrame\n",
      "\n",
      "See the caveats in the documentation: https://pandas.pydata.org/pandas-docs/stable/user_guide/indexing.html#returning-a-view-versus-a-copy\n",
      "\n"
     ]
    },
    {
     "name": "stdout",
     "output_type": "stream",
     "text": [
      "0\n"
     ]
    }
   ],
   "source": [
    "#BEGIN CUSTOM CODE BELOW...\n",
    "\n",
    "#upstream params found\n",
    "# response_0\n",
    "\n",
    "\n",
    "trans_df=response_0[[\"promotioncampaignid\",\"promotioncode\",\"promoamount\"]]\n",
    "\n",
    "trans_df[\"promotioncode\"][trans_df[\"promoamount\"]==0]=\"No Promo\"\n",
    "\n",
    "trans_df=trans_df[trans_df[\"promoamount\"]>0]\n",
    "\n",
    "#Counting Unknown Promotion Code that has promoamount greater than 0\n",
    "print(trans_df[\"promotioncode\"][trans_df[\"promotioncode\"]==\"Unknown\"].count())           \n",
    "\n",
    "#put your output in this response param for connecting to downstream widgets\n",
    "response_1=trans_df\n",
    "\n",
    "#END CUSTOM CODE\n",
    "\n"
   ]
  },
  {
   "cell_type": "markdown",
   "metadata": {},
   "source": [
    "### Please save and checkpoint notebook before submitting params"
   ]
  },
  {
   "cell_type": "code",
   "execution_count": 5,
   "metadata": {},
   "outputs": [
    {
     "name": "stderr",
     "output_type": "stream",
     "text": [
      "[NbConvertApp] Converting notebook Imputing_promocode_202108240549.ipynb to script\n",
      "[NbConvertApp] Writing 3723 bytes to Imputing_promocode_202108240549.py\n"
     ]
    }
   ],
   "source": [
    "\n",
    "currentNotebook = 'Imputing_promocode_202108240549.ipynb'\n",
    "\n",
    "!jupyter nbconvert --to script {currentNotebook} \n",
    "\n"
   ]
  },
  {
   "cell_type": "code",
   "execution_count": 6,
   "metadata": {},
   "outputs": [
    {
     "name": "stdout",
     "output_type": "stream",
     "text": [
      "['codex_widget_factory']\n",
      "['codex_widget_factory', 'ingestion', 'file_system']\n",
      "SUCCESS | Submitted config params.\n"
     ]
    }
   ],
   "source": [
    "\n",
    "utils.submit_config_params(url='https://codex-api-stage.azurewebsites.net/codex-api/projects/upload-config-params/F57A0067994B9211477396CD54915E30795DA1A9C96EA227E7ABE4076AFD6E8A', nb_name=currentNotebook, results=results_json, codex_tags=codex_tags, args={})"
   ]
  },
  {
   "cell_type": "code",
   "execution_count": null,
   "metadata": {},
   "outputs": [],
   "source": []
  }
 ],
 "metadata": {
  "kernelspec": {
   "display_name": "Python 3 (ipykernel)",
   "language": "python",
   "name": "python3"
  },
  "language_info": {
   "codemirror_mode": {
    "name": "ipython",
    "version": 3
   },
   "file_extension": ".py",
   "mimetype": "text/x-python",
   "name": "python",
   "nbconvert_exporter": "python",
   "pygments_lexer": "ipython3",
   "version": "3.7.5"
  }
 },
 "nbformat": 4,
 "nbformat_minor": 2
}
